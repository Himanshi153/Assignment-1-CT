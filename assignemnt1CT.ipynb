{
 "cells": [
  {
   "cell_type": "markdown",
   "id": "aab0bcce-d421-4dff-994f-e9361d9c0627",
   "metadata": {},
   "source": [
    "# ⭐ Assignment 1: Star Patterns in Python\n",
    "This assignment prints different star patterns using loops in Python:\n",
    "1. Lower Triangular Pattern  \n",
    "2. Upper Triangular Pattern  \n",
    "3. Pyramid Pattern  \n"
   ]
  },
  {
   "cell_type": "code",
   "execution_count": null,
   "id": "240ac88c-0b44-4ed3-9b92-71f993de7e19",
   "metadata": {},
   "outputs": [],
   "source": [
    "### 🔽 Lower Triangular Pattern\n",
    "For a given number of rows `n`, this pattern prints:\n",
    "*\n",
    "* *\n",
    "* * *\n",
    "* * * *\n",
    "* * * * *\n"
   ]
  },
  {
   "cell_type": "code",
   "execution_count": 1,
   "id": "3f319313-8d0a-48a2-9f5d-93ceaf8138eb",
   "metadata": {},
   "outputs": [
    {
     "name": "stdout",
     "output_type": "stream",
     "text": [
      "Lower Triangular Pattern:\n",
      "\n",
      "* \n",
      "* * \n",
      "* * * \n",
      "* * * * \n",
      "* * * * * \n"
     ]
    }
   ],
   "source": [
    "n = 5\n",
    "print(\"Lower Triangular Pattern:\\n\")\n",
    "for i in range(1, n + 1):\n",
    "    print(\"* \" * i)\n"
   ]
  },
  {
   "cell_type": "markdown",
   "id": "84b33a1f-00fc-4a49-af06-7013dbec6427",
   "metadata": {},
   "source": [
    "### 🔼 Upper Triangular Pattern\n",
    "This pattern looks like:\n",
    "* * * * *\n",
    "  * * * *\n",
    "    * * *\n",
    "      * *\n",
    "        *\n"
   ]
  },
  {
   "cell_type": "code",
   "execution_count": 2,
   "id": "8f2c29dd-3f7f-4602-a063-023dbcced77a",
   "metadata": {},
   "outputs": [
    {
     "name": "stdout",
     "output_type": "stream",
     "text": [
      "\n",
      "Upper Triangular Pattern:\n",
      "\n",
      "* * * * * \n",
      "  * * * * \n",
      "    * * * \n",
      "      * * \n",
      "        * \n"
     ]
    }
   ],
   "source": [
    "n = 5\n",
    "print(\"\\nUpper Triangular Pattern:\\n\")\n",
    "for i in range(n):\n",
    "    print(\"  \" * i + \"* \" * (n - i))\n"
   ]
  },
  {
   "cell_type": "markdown",
   "id": "1a1df109-93d0-4944-9265-4d19a12173d9",
   "metadata": {},
   "source": [
    "### ⛰️ Pyramid Pattern\n",
    "This pattern is:\n",
    "        * \n",
    "      * * \n",
    "    * * * \n",
    "  * * * * \n",
    "* * * * *\n"
   ]
  },
  {
   "cell_type": "code",
   "execution_count": 3,
   "id": "4ee67bb7-bb77-4676-9453-d462bcac4b11",
   "metadata": {},
   "outputs": [
    {
     "name": "stdout",
     "output_type": "stream",
     "text": [
      "\n",
      "Pyramid Pattern:\n",
      "\n",
      "        * \n",
      "      * * \n",
      "    * * * \n",
      "  * * * * \n",
      "* * * * * \n"
     ]
    }
   ],
   "source": [
    "n = 5\n",
    "print(\"\\nPyramid Pattern:\\n\")\n",
    "for i in range(1, n + 1):\n",
    "    print(\"  \" * (n - i) + \"* \" * i)\n"
   ]
  },
  {
   "cell_type": "code",
   "execution_count": 4,
   "id": "12c71474-24c1-4074-919c-1f69d7e46ec6",
   "metadata": {},
   "outputs": [
    {
     "name": "stdout",
     "output_type": "stream",
     "text": [
      "\n",
      "🎉 Assignment 1 Completed Successfully!\n"
     ]
    }
   ],
   "source": [
    "print(\"\\n🎉 Assignment 1 Completed Successfully!\")\n"
   ]
  },
  {
   "cell_type": "markdown",
   "id": "a9184de8-d0ad-4064-8582-5e196c8af0e7",
   "metadata": {},
   "source": [
    " menu-driven version"
   ]
  },
  {
   "cell_type": "code",
   "execution_count": 6,
   "id": "2c690341-e040-437c-8eb7-a1fddf01afe9",
   "metadata": {},
   "outputs": [
    {
     "name": "stdin",
     "output_type": "stream",
     "text": [
      "Choose Pattern: 1-Lower, 2-Upper, 3-Pyramid:  1\n",
      "Enter number of rows:  5\n"
     ]
    },
    {
     "name": "stdout",
     "output_type": "stream",
     "text": [
      "* \n",
      "* * \n",
      "* * * \n",
      "* * * * \n",
      "* * * * * \n"
     ]
    }
   ],
   "source": [
    "def lower_triangle(n):\n",
    "    for i in range(1, n + 1):\n",
    "        print(\"* \" * i)\n",
    "\n",
    "def upper_triangle(n):\n",
    "    for i in range(n):\n",
    "        print(\"  \" * i + \"* \" * (n - i))\n",
    "\n",
    "def pyramid(n):\n",
    "    for i in range(1, n + 1):\n",
    "        print(\"  \" * (n - i) + \"* \" * i)\n",
    "\n",
    "choice = int(input(\"Choose Pattern: 1-Lower, 2-Upper, 3-Pyramid: \"))\n",
    "n = int(input(\"Enter number of rows: \"))\n",
    "\n",
    "if choice == 1:\n",
    "    lower_triangle(n)\n",
    "elif choice == 2:\n",
    "    upper_triangle(n)\n",
    "elif choice == 3:\n",
    "    pyramid(n)\n",
    "else:\n",
    "    print(\"Invalid choice\")\n"
   ]
  },
  {
   "cell_type": "code",
   "execution_count": null,
   "id": "4ec36908-e453-4c53-8fcd-bc78175e8ca8",
   "metadata": {},
   "outputs": [],
   "source": []
  },
  {
   "cell_type": "code",
   "execution_count": null,
   "id": "35ad5051-0858-4a77-951d-8ae531710840",
   "metadata": {},
   "outputs": [],
   "source": []
  }
 ],
 "metadata": {
  "kernelspec": {
   "display_name": "Python 3 (ipykernel)",
   "language": "python",
   "name": "python3"
  },
  "language_info": {
   "codemirror_mode": {
    "name": "ipython",
    "version": 3
   },
   "file_extension": ".py",
   "mimetype": "text/x-python",
   "name": "python",
   "nbconvert_exporter": "python",
   "pygments_lexer": "ipython3",
   "version": "3.12.7"
  }
 },
 "nbformat": 4,
 "nbformat_minor": 5
}
